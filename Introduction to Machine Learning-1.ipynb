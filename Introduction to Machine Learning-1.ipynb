{
 "cells": [
  {
   "cell_type": "raw",
   "id": "f73d98f0-ee10-40a8-950b-1f1b6a21e13c",
   "metadata": {},
   "source": [
    "Q-1:Explain the following with an example:\n",
    "1. Artificial Intelligence\n",
    "2. Machine Learning,\n",
    "3. Deep Learning\n",
    "\n",
    "ANS=Artificial intelligence (AI) is a set of technologies that enable computers to perform a variety of advanced functions, including the ability to see, understand and translate spoken and written language, analyze data, make recommendations, and more.\n",
    "\n",
    "Machine Learning=Machine learning (ML) is a branch of artificial intelligence (AI) and computer science that focuses on the using data and algorithms to enable AI to imitate the way that humans learn, gradually improving its accuracy.\n",
    "\n",
    "Deep Learning=Deep learning is a subset of machine learning that uses multilayered neural networks, called deep neural networks, to simulate the complex decision-making power of the human brain. Some form of deep learning powers most of the artificial intelligence (AI) applications in our lives today."
   ]
  },
  {
   "cell_type": "raw",
   "id": "6d547f52-6d3e-4358-83c6-5b855c8ff381",
   "metadata": {},
   "source": [
    "Q2- What is supervised learning? List some examples of supervised learning.\n",
    "\n",
    "ANS=Supervised learning is a category of machine learning that uses labeled datasets to train algorithms to predict outcomes and recognize patterns. Unlike unsupervised learning, supervised learning algorithms are given labeled training to learn the relationship between the input and the output"
   ]
  },
  {
   "cell_type": "raw",
   "id": "ffaef1ab-be93-442f-abd7-cca537d991c8",
   "metadata": {},
   "source": [
    "Q3- What is unsupervised learning? List some examples of unsupervised learning.\n",
    "\n",
    "ANS= What is unsupervised learning? Unsupervised learning, also known as unsupervised machine learning, uses machine learning (ML) algorithms to analyze and cluster unlabeled data sets. These algorithms discover hidden patterns or data groupings without the need for human intervention."
   ]
  },
  {
   "cell_type": "raw",
   "id": "a3cdcd20-7a01-4b40-b884-4dd1533cfc69",
   "metadata": {},
   "source": [
    "Q4- What is the different between AI, ML, DL, and DS?\n",
    "\n",
    "ANS= AI (Artificial Intelligence)\n",
    "The goal of AI is to create machines that can perform tasks that would require intelligence if done by humans. For example, AI powers recommendation systems on Netflix and Amazon.\n",
    "ML (Machine Learning)\n",
    "A subset of AI that involves training algorithms to learn from data. ML uses statistical tools and techniques like supervised, unsupervised, and reinforcement learning to explore and analyze data.\n",
    "DL (Deep Learning)\n",
    "A subset of ML that uses artificial neural networks to model complex patterns in data. DL algorithms work on larger sets of data compared to ML, and machines self-administer the prediction mechanism.\n",
    "DS (Data Science)\n",
    "An interdisciplinary field that uses algorithms, ML, and DL to extract insights and knowledge from data. Data science involves drawing insights from structured and unstructured data"
   ]
  },
  {
   "cell_type": "raw",
   "id": "0e552829-5793-4191-be4d-ac194709df1e",
   "metadata": {},
   "source": [
    "Q5- What arK the main difference between supervised, unsupervised, and symi-supervised learning?\n",
    "\n",
    "ANS=It's proficient in tasks such as classification and regression. Unsupervised learning: Deals with unlabeled data, making it valuable in exploratory data analysis, finding hidden structures, and reducing dimensionality. Semi-supervised learning: Bridges the gap by combining labeled and unlabeled dat"
   ]
  },
  {
   "cell_type": "raw",
   "id": "67eaf29a-57c3-4b42-ac33-99c83a10200c",
   "metadata": {},
   "source": [
    "Q6- What is train, test and validation split? Explain the importance of each term.\n",
    "\n",
    "ANS=Train= we will train our modules\n",
    "TEST= module will be test\n",
    "validation=hyper tuning of the module\n"
   ]
  },
  {
   "cell_type": "raw",
   "id": "f0fa2036-48a6-4bc2-aee1-09f6a554b3e1",
   "metadata": {},
   "source": [
    "Q7- How can unsupervised learning by used in normaly detection?\n",
    "\n",
    "ANS= Unsupervised learning can be used for anomaly detection by identifying normal patterns in a dataset and then detecting outliers or abnormal patterns. It's a type of machine learning that doesn't require any prior knowledge or labeled data."
   ]
  },
  {
   "cell_type": "code",
   "execution_count": null,
   "id": "70dc6d1f-36bf-404b-bbbd-ab8af9928aab",
   "metadata": {},
   "outputs": [],
   "source": []
  }
 ],
 "metadata": {
  "kernelspec": {
   "display_name": "Python 3 (ipykernel)",
   "language": "python",
   "name": "python3"
  },
  "language_info": {
   "codemirror_mode": {
    "name": "ipython",
    "version": 3
   },
   "file_extension": ".py",
   "mimetype": "text/x-python",
   "name": "python",
   "nbconvert_exporter": "python",
   "pygments_lexer": "ipython3",
   "version": "3.10.8"
  }
 },
 "nbformat": 4,
 "nbformat_minor": 5
}
