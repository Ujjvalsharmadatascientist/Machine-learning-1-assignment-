{
 "cells": [
  {
   "cell_type": "raw",
   "id": "e732f310-1768-4bbb-b0b7-287cce94f20d",
   "metadata": {},
   "source": [
    "Q1: Define overfitting and underfitting in machine learning. What are the consequences of each, and how\n",
    "can they be mitigated?\n",
    "\n",
    "ANS= A statistical model is said to be overfitted when the model does not make accurate predictions on testing data. When a model gets trained with so much data, it starts learning from the noise and inaccurate data entries in our data set. And when testing with test data results in High variance. Then the model does not categorize the data correctly, because of too many details and noise. The causes of overfitting are the non-parametric and non-linear methods because these types of machine learning algorithms have more freedom in building the model based on the dataset and therefore they can really build unrealistic models. A solution to avoid overfitting is using a linear algorithm if we have linear data or using the parameters like the maximal depth if we are using decision trees. \n",
    "\n",
    "\n",
    "A statistical model is said to be overfitted when the model does not make accurate predictions on testing data. When a model gets trained with so much data, it starts learning from the noise and inaccurate data entries in our data set. And when testing with test data results in High variance. Then the model does not categorize the data correctly, because of too many details and noise. The causes of overfitting are the non-parametric and non-linear methods because these types of machine learning algorithms have more freedom in building the model based on the dataset and therefore they can really build unrealistic models. A solution to avoid overfitting is using a linear algorithm if we have linear data or using the parameters like the maximal depth if we are using decision trees\n"
   ]
  },
  {
   "cell_type": "raw",
   "id": "61276770-f360-45ce-a223-24db284bf13c",
   "metadata": {},
   "source": [
    "Q2: How can we reduce overfitting? Explain in brief.\n",
    "\n",
    "ANS= Improving the quality of training data reduces overfitting by focusing on meaningful patterns, mitigate the risk of fitting the noise or irrelevant features. Increase the training data can improve the model's ability to generalize to unseen data and reduce the likelihood of overfitting."
   ]
  },
  {
   "cell_type": "raw",
   "id": "098f4f94-6962-4487-b7b5-3445c38544c6",
   "metadata": {},
   "source": [
    "Q3: Explain underfitting. List scenarios where underfitting can occur in ML.\n",
    "\n",
    "ANS= Underfitting in machine learning is when a model fails to grasp the patterns within the training data. This results in poor performance and unreliable predictions, even on the training data\n",
    "\n",
    "Causes of underfitting\n",
    "Simple model: Using a model that's too simple or has overly simplified assumptions\n",
    "Insufficient training data: Not having enough data to train the model\n",
    "Noisy data: Training data that contains outliers or incorrect values\n",
    "Less regularization\n",
    "Insufficient training time \n",
    "Signs of underfitting\n",
    "High bias\n",
    "Low variance\n",
    "Inaccurate predictions, especially for new data\n",
    "High error rate on both training and testing data"
   ]
  },
  {
   "cell_type": "raw",
   "id": "b5aaab7d-131f-4e78-9049-a0748e1d5d2f",
   "metadata": {},
   "source": [
    "Q4: Explain the bias-variance tradeoff in machine learning. What is the relationship between bias and\n",
    "variance, and how do they affect model performance?\n",
    "\n",
    "ANS = Bias\n",
    "The difference between the model's prediction and the actual value. High bias means the model is too simple and consistently misses the target. It's caused by the simplifying assumptions made by the model.\n",
    "\n",
    "Variance\n",
    "The degree to which the model's predictions vary when using different training data. High variance means the model is too complex and overfits the training data, making it unable to perform well on new data"
   ]
  },
  {
   "cell_type": "raw",
   "id": "ac5598c7-5be5-48c2-8cbc-0d5acf9dc98c",
   "metadata": {},
   "source": [
    "Q5: Discuss some common methods for detecting overfitting and underfitting in machine learning models.\n",
    "How can you determine whether your model is overfitting or underfitting?"
   ]
  }
 ],
 "metadata": {
  "kernelspec": {
   "display_name": "Python 3 (ipykernel)",
   "language": "python",
   "name": "python3"
  },
  "language_info": {
   "codemirror_mode": {
    "name": "ipython",
    "version": 3
   },
   "file_extension": ".py",
   "mimetype": "text/x-python",
   "name": "python",
   "nbconvert_exporter": "python",
   "pygments_lexer": "ipython3",
   "version": "3.10.8"
  }
 },
 "nbformat": 4,
 "nbformat_minor": 5
}
